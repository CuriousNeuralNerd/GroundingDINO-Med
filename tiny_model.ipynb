{
 "cells": [
  {
   "cell_type": "markdown",
   "id": "7b6d4f0d-ee99-41d2-9d29-3ddf06402ebd",
   "metadata": {},
   "source": [
    "# Check Current Directory"
   ]
  },
  {
   "cell_type": "code",
   "execution_count": null,
   "id": "2c53cfb4-5ceb-4abc-9458-1ba777a3cfb7",
   "metadata": {},
   "outputs": [],
   "source": [
    "pwd"
   ]
  },
  {
   "cell_type": "markdown",
   "id": "a74ab1ee-154e-4a75-bf95-8c6f7275b294",
   "metadata": {},
   "source": [
    "# Python and PyTorch Environment Check"
   ]
  },
  {
   "cell_type": "code",
   "execution_count": null,
   "id": "1d881082-2ae6-4ecf-8709-ccd64fd8a23e",
   "metadata": {},
   "outputs": [],
   "source": [
    "!python3 --version"
   ]
  },
  {
   "cell_type": "code",
   "execution_count": null,
   "id": "f2714a70-e99b-47da-8f8b-eb274b7468a6",
   "metadata": {},
   "outputs": [],
   "source": [
    "import torch\n",
    "print(\"PyTorch version:\", torch.__version__)\n",
    "print(\"CUDA available:\", torch.cuda.is_available())"
   ]
  },
  {
   "cell_type": "markdown",
   "id": "7af635a1-43e6-4d04-9d85-e6001cc94dfb",
   "metadata": {},
   "source": [
    "# Open Grounding Dino Setup"
   ]
  },
  {
   "cell_type": "code",
   "execution_count": null,
   "id": "45c149a9-0a8d-4819-aec9-351729778fc3",
   "metadata": {},
   "outputs": [],
   "source": [
    "# Clone Open Grounding Dino repository\n",
    "!git clone \"https://github.com/longzw1997/Open-GroundingDino\""
   ]
  },
  {
   "cell_type": "code",
   "execution_count": null,
   "id": "7d76322c-5af0-4120-9eae-0fe4ac5c6b25",
   "metadata": {},
   "outputs": [],
   "source": [
    "# Rename repository\n",
    "%mv Open-GroundingDino OpenGroundingDino"
   ]
  },
  {
   "cell_type": "code",
   "execution_count": null,
   "id": "617716e2-ed4c-45d8-8794-b819ea3d379f",
   "metadata": {},
   "outputs": [],
   "source": [
    "# Change to the OpenGroundingDino directory\n",
    "%cd OpenGroundingDino"
   ]
  },
  {
   "cell_type": "code",
   "execution_count": null,
   "id": "406975c1-9390-4767-a668-57834c54820d",
   "metadata": {
    "scrolled": true
   },
   "outputs": [],
   "source": [
    "# Install the requirements from requirements.txt\n",
    "!pip3 install -r requirements.txt"
   ]
  },
  {
   "cell_type": "markdown",
   "id": "af709105-041c-452d-a4ce-b62dbca07fcc",
   "metadata": {},
   "source": [
    "# Setting Up and Testing the GroundingDINO Ops Directory"
   ]
  },
  {
   "cell_type": "code",
   "execution_count": null,
   "id": "89e5149a-e068-49a8-bbbb-ec13cdf53c80",
   "metadata": {},
   "outputs": [],
   "source": [
    "# Change directory to models/GroundingDINO/ops\n",
    "%cd models/GroundingDINO/ops"
   ]
  },
  {
   "cell_type": "code",
   "execution_count": null,
   "id": "ebe444b7-ceee-4575-b3d4-467d014b68b6",
   "metadata": {
    "scrolled": true
   },
   "outputs": [],
   "source": [
    "# Install the Python setup in the ops directory\n",
    "!python3 setup.py install"
   ]
  },
  {
   "cell_type": "code",
   "execution_count": null,
   "id": "666a0111-580d-4891-a721-2587efca0d13",
   "metadata": {},
   "outputs": [],
   "source": [
    "!python test.py"
   ]
  },
  {
   "cell_type": "code",
   "execution_count": null,
   "id": "608a9276-b255-49de-8dc6-b91998d9b6ea",
   "metadata": {},
   "outputs": [],
   "source": [
    "%cd ~/GroundingDINO-Med/"
   ]
  },
  {
   "cell_type": "markdown",
   "id": "991edcb4-53b8-4e01-9e48-d2d44f7b57c7",
   "metadata": {},
   "source": [
    "# Get the Data\n",
    "\n",
    "### The Dataset is in COCO format\n",
    "\n",
    "##### Make Changes"
   ]
  },
  {
   "cell_type": "code",
   "execution_count": null,
   "id": "32e051e6-0308-4780-81a1-a0108fa29d16",
   "metadata": {},
   "outputs": [],
   "source": [
    "# Downloading the Xray Dataset \n",
    "!pip3 install gdown\n",
    "!gdown https://drive.google.com/uc?id=1efjyrh384P4h8vyvTzLOE6UiE59dyVEM"
   ]
  },
  {
   "cell_type": "markdown",
   "id": "51b2c341-728f-46e4-b328-c2233b6647e9",
   "metadata": {},
   "source": [
    "# Preparing the Dataset Directory\n",
    "\n",
    "##### Make Changes"
   ]
  },
  {
   "cell_type": "code",
   "execution_count": null,
   "id": "8406d019-fa52-4c54-8413-c81125844519",
   "metadata": {},
   "outputs": [],
   "source": [
    "%mkdir ~/GroundingDINO-Med/xray_data"
   ]
  },
  {
   "cell_type": "markdown",
   "id": "4f5eae19-50ef-4991-af8c-35f4034e062c",
   "metadata": {},
   "source": [
    "##### Make Changes"
   ]
  },
  {
   "cell_type": "code",
   "execution_count": null,
   "id": "3f0e4f0e-c376-40bc-9f1b-c1d5ba818527",
   "metadata": {
    "scrolled": true
   },
   "outputs": [],
   "source": [
    "!unzip ~/GroundingDINO-Med/xray_data.zip -d ~/content/xray_data"
   ]
  },
  {
   "cell_type": "markdown",
   "id": "38f45483-85c6-4781-bd3c-a154d3264942",
   "metadata": {},
   "source": [
    "# Visualize the Dataset\n",
    "\n",
    "##### Make Changes"
   ]
  },
  {
   "cell_type": "code",
   "execution_count": null,
   "id": "c53a7dbd-d3af-4855-86e0-12c2cfa916b9",
   "metadata": {},
   "outputs": [],
   "source": [
    "import matplotlib.pyplot as plt\n",
    "import os\n",
    "import random\n",
    "from PIL import Image\n",
    "\n",
    "# Path to the folder containing the images\n",
    "folder_path = '~/GroundingDINO-Med/xray_data/xray_data/train'\n",
    "\n",
    "# Get a list of all files in the folder\n",
    "all_files = os.listdir(folder_path)\n",
    "\n",
    "# Filter the list to include only files with image extensions\n",
    "image_files = [file for file in all_files if file.lower().endswith(('png', 'jpg', 'jpeg', 'gif', 'bmp'))]\n",
    "\n",
    "# Randomly select 16 images from the list\n",
    "selected_images = random.sample(image_files, 16)\n",
    "\n",
    "# Set up the plot grid\n",
    "fig, axes = plt.subplots(4, 4, figsize=(10, 10))\n",
    "\n",
    "# Plot each selected image in the grid\n",
    "for ax, image_file in zip(axes.flatten(), selected_images):\n",
    "    # Open the image file\n",
    "    img = Image.open(os.path.join(folder_path, image_file))\n",
    "\n",
    "    # Display the image on the grid\n",
    "    ax.imshow(img, cmap='gray')\n",
    "    ax.axis('off')  # Hide the axes\n",
    "\n",
    "# Adjust the layout to be tight\n",
    "plt.tight_layout()\n",
    "\n",
    "# Show the plot\n",
    "plt.show()"
   ]
  },
  {
   "cell_type": "markdown",
   "id": "a4d36f16-7398-4f6e-967d-3b5223e6ad93",
   "metadata": {},
   "source": [
    "# Converting training data from COCO to odvg, Val data remains in COCO format only"
   ]
  },
  {
   "cell_type": "code",
   "execution_count": null,
   "id": "2a771b3c-e469-4503-b1a2-6c2fad8b3118",
   "metadata": {},
   "outputs": [],
   "source": [
    "%cd ~/GroundingDINO-Med"
   ]
  },
  {
   "cell_type": "markdown",
   "id": "3d099e6c-e8aa-4a80-a663-24e25c26944b",
   "metadata": {},
   "source": [
    "##### Make Changes\n",
    "\n",
    "- You need to modify line 11 (new_id_map) and line 16 (new_ori_map) of OpenGroundingDino/tools/coco2odvg.py according to the dataset you plan to work with"
   ]
  },
  {
   "cell_type": "code",
   "execution_count": null,
   "id": "2f7db734-9438-492f-aa90-622e99e711c6",
   "metadata": {},
   "outputs": [],
   "source": [
    "import re\n",
    "\n",
    "# Define the file path\n",
    "file_path = 'OpenGroundingDino/tools/coco2odvg.py'\n",
    "\n",
    "# Define the new values according to the dataset\n",
    "new_id_map = '{0: 0, 1: 1, 2: 2, 3: 3, 4: 4, 5: 5, 6: 6, 7: 7, 8: 8, 9: 9, 10: 10, 11: 11, 12: 12, 13: 13}'\n",
    "new_ori_map = '{\"0\": \"aortic enlargement\", \"1\": \"atelectasis\", \"2\": \"calcification\", \"3\": \"cardiomegaly\", \"4\": \"consolidation\", \"5\": \"ild\", \"6\": \"infiltration\", \"7\": \"lung opacity\", \"8\": \"nodule mass\", \"9\": \"pleural effusion\", \"10\": \"pleural thickening\", \"11\": \"pneumothorax\", \"12\": \"pulmonary fibrosis\", \"13\": \"other lesion\"}'\n",
    "\n",
    "# Read the content of the file\n",
    "with open(file_path, 'r') as file:\n",
    "    content = file.read()\n",
    "\n",
    "# Replace the id_map value using regex\n",
    "content = re.sub(r'id_map\\s*=\\s*\\{[^\\}]*\\}', f'id_map = {new_id_map}', content)\n",
    "\n",
    "# Replace the ori_map value using regex\n",
    "content = re.sub(r'ori_map\\s*=\\s*\\{[^\\}]*\\}', f'ori_map = {new_ori_map}', content)\n",
    "\n",
    "# Write the updated content back to the file\n",
    "with open(file_path, 'w') as file:\n",
    "    file.write(content)\n",
    "\n",
    "print(f\"Updated {file_path} successfully.\")"
   ]
  },
  {
   "cell_type": "markdown",
   "id": "e1f2d0fc-1dd8-4e62-acca-b482667de9f5",
   "metadata": {},
   "source": [
    "# Preparing Input Parameters and Converting COCO JSON"
   ]
  },
  {
   "cell_type": "code",
   "execution_count": null,
   "id": "00d78f16-d44a-4857-a397-6712d81bd79f",
   "metadata": {},
   "outputs": [],
   "source": [
    "# make a folder for odvg file\n",
    "import os\n",
    "%cd ~/GroundingDINO-Med\n",
    "%mkdir ~/GroundingDINO-Med/input_params"
   ]
  },
  {
   "cell_type": "markdown",
   "id": "cb0225c6-abfc-44f5-a90b-c4294bdefcee",
   "metadata": {},
   "source": [
    "##### Make Changes"
   ]
  },
  {
   "cell_type": "code",
   "execution_count": null,
   "id": "aa00b8d7-427a-4b7b-aa81-8f7c10b60f7d",
   "metadata": {},
   "outputs": [],
   "source": [
    "# change path of input file to your input Coco json file\n",
    "!pip install jsonlines\n",
    "!python ~/GroundingDINO-Med/OpenGroundingDino/tools/coco2odvg.py --input \"~/GroundingDINO-Med/xray_data/xray_data/train/_annotations.coco.json\"  --output \"~/GroundingDINO-Med/input_params/train.jsonl\""
   ]
  },
  {
   "cell_type": "code",
   "execution_count": null,
   "id": "8ab90a6a-680e-46a0-9e27-9cf41bf7f72e",
   "metadata": {},
   "outputs": [],
   "source": [
    "%cd ~/content"
   ]
  },
  {
   "cell_type": "markdown",
   "id": "5d1daedf-587d-4d0a-b320-acc82f7c8074",
   "metadata": {},
   "source": [
    "# Make label.json with all labels"
   ]
  },
  {
   "cell_type": "markdown",
   "id": "c4dbdd0d-80f7-4b5a-8326-cb6ac459e7bb",
   "metadata": {},
   "source": [
    "##### Make Changes"
   ]
  },
  {
   "cell_type": "code",
   "execution_count": null,
   "id": "a386b512-e8cd-4e8b-b779-b21aaa7bd4bd",
   "metadata": {},
   "outputs": [],
   "source": [
    "import json\n",
    "\n",
    "# Define the content for the JSON file\n",
    "content = {\n",
    "    \"0\": \"aortic enlargement\",\n",
    "    \"1\": \"atelectasis\",\n",
    "    \"2\": \"calcification\",\n",
    "    \"3\": \"cardiomegaly\",\n",
    "    \"4\": \"consolidation\",\n",
    "    \"5\": \"ild\",\n",
    "    \"6\": \"infiltration\",\n",
    "    \"7\": \"Lung Opacity\",\n",
    "    \"8\": \"nodule mass\",\n",
    "    \"9\": \"pleural effusion\",\n",
    "    \"10\": \"pleural thickening\",\n",
    "    \"11\": \"pneumothorax\",\n",
    "    \"12\": \"pulmonary fibrosis\",\n",
    "    \"13\": \"other lesion\",\n",
    "}\n",
    "\n",
    "# Define the file path\n",
    "file_path = '~/content/input_params/label.json'\n",
    "\n",
    "# Write the content to the JSON file\n",
    "with open(file_path, 'w') as file:\n",
    "    json.dump(content, file)\n",
    "\n",
    "print(f\"File '{file_path}' created successfully.\")"
   ]
  },
  {
   "cell_type": "markdown",
   "id": "7eeee324-0774-4035-9782-f7d01fa7c336",
   "metadata": {},
   "source": [
    "##### Make Changes"
   ]
  },
  {
   "cell_type": "code",
   "execution_count": null,
   "id": "742d3a1d-d9dd-4308-97eb-d35fcbac2cd6",
   "metadata": {},
   "outputs": [],
   "source": [
    "#change the paths according to file locations\n",
    "import json\n",
    "\n",
    "# Define the data\n",
    "data = {\n",
    "    \"train\": [\n",
    "        {\n",
    "            \"root\": \"~/GroundingDINO-Med/xray_data/xray_data/train\",#Train images\n",
    "            \"anno\": \"~/GroundingDINO-Med/input_params/train.jsonl\",#Odvg jsonl file\n",
    "            \"label_map\": \"~/GroundingDINO-Med/input_params/label.json\",# label.json file\n",
    "            \"dataset_mode\": \"odvg\"\n",
    "        }\n",
    "    ],\n",
    "    \"val\": [\n",
    "        {\n",
    "            \"root\": \"~/GroundingDINO-Med/xray_data/xray_data/test\",#Test Images\n",
    "            \"anno\": \"~/GroundingDINO-Med/xray_data/xray_data/test/_annotations.coco.json\",#Test data Annotation file in COCO\n",
    "            \"label_map\": None,\n",
    "            \"dataset_mode\": \"coco\"\n",
    "        }\n",
    "    ]\n",
    "}\n",
    "\n",
    "file_path = '~/GroundingDINO-Med/OpenGroundingDino/config/datasets_mixed_odvg.json'\n",
    "\n",
    "with open(file_path, 'w') as file:\n",
    "    json.dump(data, file, indent=2)\n",
    "\n",
    "print(f\"Data has been written to {file_path}\")"
   ]
  },
  {
   "cell_type": "markdown",
   "id": "87965d00-6a59-491f-99af-1126d3fb67be",
   "metadata": {},
   "source": [
    "# Modifying files according the dataset\n",
    "\n",
    "modifying OpenGroundingDino/config/cfg_coco.py and OpenGroundingDino/config/cfg_odvg.py\n",
    "\n",
    "##### Make Changes"
   ]
  },
  {
   "cell_type": "code",
   "execution_count": null,
   "id": "42f60dbb-cbeb-44d6-9c14-657509fbd875",
   "metadata": {},
   "outputs": [],
   "source": [
    "import re\n",
    "\n",
    "def modify_file(file_path):\n",
    "    label_list_content = 'label_list = [\"aortic enlargement\", \"atelectasis\", \"calcification\", \"cardiomegaly\", \"consolidation\", \"ild\", \"infiltration\", \"lung opacity\", \"nodule mass\", \"pleural effusion\", \"pleural thickening\", \"pneumothorax\", \"pulmonary fibrosis\", \"other lesion\"]\\n'\n",
    "\n",
    "    # Read the entire content of the file\n",
    "    with open(file_path, 'r') as file:\n",
    "        content = file.read()\n",
    "\n",
    "    # Replace use_coco_eval =TRUE with use_coco_eval =FALSE using regex\n",
    "    content = re.sub(r'use_coco_eval\\s*=\\s*True', 'use_coco_eval = False', content)\n",
    "\n",
    "    # Insert label_list after use_coco_eval = FALSE using regex\n",
    "    content = re.sub(r'use_coco_eval\\s*=\\s*False', r'use_coco_eval = False\\n\\n' + label_list_content, content, count=1, flags=re.MULTILINE)\n",
    "\n",
    "    # Write the modified content back to the file\n",
    "    with open(file_path, 'w') as file:\n",
    "        file.write(content)\n",
    "\n",
    "# Paths to the files\n",
    "cfg_coco_path = '~/GroundingDINO-Med/OpenGroundingDino/config/cfg_coco.py'\n",
    "cfg_odvg_path = '~/GroundingDINO-Med/OpenGroundingDino/config/cfg_odvg.py'\n",
    "\n",
    "# Modify both files\n",
    "modify_file(cfg_coco_path)\n",
    "modify_file(cfg_odvg_path)\n",
    "\n",
    "print(\"Updated use_coco_eval to FALSE and added label_list using regex in both files.\")"
   ]
  },
  {
   "cell_type": "markdown",
   "id": "c7e37984-408d-45d8-add2-e59cee1a91e1",
   "metadata": {},
   "source": [
    "# Setting Up the Output Directory and Download the Model Checkpoints \n",
    "### 'groundingdino_swint_ogc.pth'\n",
    "\n",
    "##### Make Changes (if you want a different output directory name)"
   ]
  },
  {
   "cell_type": "code",
   "execution_count": null,
   "id": "a2603cfe-0c1d-49e4-a83e-1491f59d4d74",
   "metadata": {},
   "outputs": [],
   "source": [
    "# make a output directory to store the checkpoints of trained model\n",
    "%mkdir ~/GroundingDINO-Med/output_tiny"
   ]
  },
  {
   "cell_type": "markdown",
   "id": "36fc1b7b-6f6b-4144-934f-bc87e04a1e3a",
   "metadata": {},
   "source": [
    "- If you want to use the base model then you will need to change this since this is the tiny version"
   ]
  },
  {
   "cell_type": "code",
   "execution_count": null,
   "id": "10f24ced-27df-45bf-9ffd-b7a7a9374df9",
   "metadata": {},
   "outputs": [],
   "source": [
    "!wget https://github.com/IDEA-Research/GroundingDINO/releases/download/v0.1.0-alpha/groundingdino_swint_ogc.pth"
   ]
  },
  {
   "cell_type": "markdown",
   "id": "c15b816e-aac9-44cd-967d-bad71567732e",
   "metadata": {},
   "source": [
    "# Initialize and Save a Pretrained BERT Model"
   ]
  },
  {
   "cell_type": "code",
   "execution_count": null,
   "id": "070c0765-2174-4240-ad95-b7bc3aac2620",
   "metadata": {},
   "outputs": [],
   "source": [
    "%mkdir ~/GroundingDINO-Med/bert"
   ]
  },
  {
   "cell_type": "code",
   "execution_count": null,
   "id": "0b9e8dfc-342b-4e6a-8974-4f1246984eaa",
   "metadata": {},
   "outputs": [],
   "source": [
    "from transformers import AutoTokenizer, AutoModel\n",
    "\n",
    "# Initialize tokenizer and model\n",
    "tokenizer = AutoTokenizer.from_pretrained(\"bert-base-uncased\")\n",
    "model = AutoModel.from_pretrained(\"bert-base-uncased\")"
   ]
  },
  {
   "cell_type": "code",
   "execution_count": null,
   "id": "59e3eca2-0e90-4587-8d99-edc7221c6423",
   "metadata": {},
   "outputs": [],
   "source": [
    "%cd ~/GroundingDINO-Med/bert"
   ]
  },
  {
   "cell_type": "code",
   "execution_count": null,
   "id": "7fc14241-6f00-41ba-9bf2-652db63b4a81",
   "metadata": {},
   "outputs": [],
   "source": [
    "print(tokenizer.save_pretrained(\".\"))\n",
    "print(model.save_pretrained(\".\"))"
   ]
  },
  {
   "cell_type": "code",
   "execution_count": null,
   "id": "0a27c7f4-9d4b-4ceb-b57d-623a11a7bacc",
   "metadata": {},
   "outputs": [],
   "source": [
    "%cd ~/GroundingDINO-Med"
   ]
  },
  {
   "cell_type": "markdown",
   "id": "d5e24f0e-ffaa-4acf-8ca5-b0868707a342",
   "metadata": {},
   "source": [
    "# Replacing whole code of train_dist.sh with code below to run on single gpu"
   ]
  },
  {
   "cell_type": "code",
   "execution_count": null,
   "id": "3342b371-9181-469d-93ce-6db3c4fc80f5",
   "metadata": {},
   "outputs": [],
   "source": [
    "def replace_file_content(file_path, new_content):\n",
    "    try:\n",
    "        # Open the file in write mode and replace its content\n",
    "        with open(file_path, 'w') as file:\n",
    "            file.write(new_content)\n",
    "        print(f\"Successfully replaced the content of {file_path}\")\n",
    "    except IOError as e:\n",
    "        print(f\"Error occurred while replacing content: {e}\")\n",
    "\n",
    "# Define the new content for the file\n",
    "new_content = \"\"\"\\\n",
    "CFG=$1\n",
    "DATASETS=$2\n",
    "OUTPUT_DIR=$3\n",
    "\n",
    "# Set the environment variable for CUDA\n",
    "export CUDA_VISIBLE_DEVICES=0\n",
    "\n",
    "python main.py \\\\\n",
    "    --config_file ${CFG} \\\\\n",
    "    --datasets ${DATASETS} \\\\\n",
    "    --output_dir ${OUTPUT_DIR} \\\\\n",
    "    --pretrain_model_path ~/GroundingDINO-Med/groundingdino_swint_ogc.pth \\\\\n",
    "    --options text_encoder_type=\"~/GroundingDINO-Med/bert\"\n",
    "\"\"\"\n",
    "\n",
    "# Specify the file path\n",
    "file_path = '~/GroundingDINO-Med/OpenGroundingDino/train_dist.sh'\n",
    "\n",
    "# Call the function to replace the content\n",
    "replace_file_content(file_path, new_content)"
   ]
  },
  {
   "cell_type": "code",
   "execution_count": null,
   "id": "7676f95c-b3eb-42f5-b567-19781cd8e740",
   "metadata": {},
   "outputs": [],
   "source": [
    "%cd ~/GroundingDINO-Med"
   ]
  },
  {
   "cell_type": "markdown",
   "id": "4c59efe7-86fa-452f-986a-0b879f23efc0",
   "metadata": {},
   "source": [
    "# Train the model\n",
    "\n",
    "##### Make Changes if you changed the output directory"
   ]
  },
  {
   "cell_type": "code",
   "execution_count": null,
   "id": "574a4fcf-c9e1-40b7-85fa-70cbe0e3e3f8",
   "metadata": {
    "scrolled": true
   },
   "outputs": [],
   "source": [
    "%cd ~/GroundingDINO-Med/OpenGroundingDino\n",
    "GPU_NUM=1\n",
    "CGF=\"~/GroundingDINO-Med/OpenGroundingDino/config/cfg_odvg.py\"\n",
    "DATASETS=\"~/GroundingDINO-Med/OpenGroundingDino/config/datasets_mixed_odvg.json\"\n",
    "OUTPUT_DIR=\"~/GroundingDINO-Med/output_tiny\"\n",
    "!chmod +x train_dist.sh\n",
    "!bash train_dist.sh {CGF} {DATASETS} {OUTPUT_DIR}"
   ]
  },
  {
   "cell_type": "markdown",
   "id": "e9c8f3ad-391c-4f7d-8c8d-7ec0c4ae8cc9",
   "metadata": {},
   "source": [
    "# Inference on the Data"
   ]
  },
  {
   "cell_type": "code",
   "execution_count": null,
   "id": "edb20f7b-b51c-4986-b16e-5354635b9957",
   "metadata": {},
   "outputs": [],
   "source": [
    "%cd ~/GroundingDINO-Med\n",
    "!git clone https://github.com/IDEA-Research/GroundingDINO.git"
   ]
  },
  {
   "cell_type": "code",
   "execution_count": null,
   "id": "a17f10be-1900-4f60-859d-7101282b4e10",
   "metadata": {},
   "outputs": [],
   "source": [
    "%cd GroundingDINO/"
   ]
  },
  {
   "cell_type": "code",
   "execution_count": null,
   "id": "1a310f2a-9d24-4d56-8a35-3070c7f811fc",
   "metadata": {},
   "outputs": [],
   "source": [
    "pwd"
   ]
  },
  {
   "cell_type": "code",
   "execution_count": null,
   "id": "1ec42ac3-f415-41fc-a3a4-5ade19238d14",
   "metadata": {},
   "outputs": [],
   "source": [
    "!pip install ninja"
   ]
  },
  {
   "cell_type": "code",
   "execution_count": null,
   "id": "e3a9826e-5051-4403-9768-3d09cf090816",
   "metadata": {
    "scrolled": true
   },
   "outputs": [],
   "source": [
    "!pip install -e . --no-build-isolation --verbose"
   ]
  },
  {
   "cell_type": "code",
   "execution_count": null,
   "id": "0b007815-f744-4892-b242-de216d20dd4d",
   "metadata": {},
   "outputs": [],
   "source": [
    "%cd ~/GroundingDINO-Med"
   ]
  },
  {
   "cell_type": "markdown",
   "id": "cd8674a6-5540-4626-beb1-a7b62dcacae0",
   "metadata": {},
   "source": [
    "# Creating a folder for Saving the images"
   ]
  },
  {
   "cell_type": "code",
   "execution_count": null,
   "id": "41505a3e-506c-4acb-9482-46b2b2adbcbe",
   "metadata": {},
   "outputs": [],
   "source": [
    "%mkdir ~/GroundingDINO-Med/allval_images_in_folder"
   ]
  },
  {
   "cell_type": "code",
   "execution_count": null,
   "id": "1746a532-fe30-4b67-99d7-94f495ad0f0d",
   "metadata": {},
   "outputs": [],
   "source": [
    "%cd ~/GroundingDINO-Med/allval_images_in_folder"
   ]
  },
  {
   "cell_type": "markdown",
   "id": "1373275e-c2a9-404b-84c0-ecc425dac6b5",
   "metadata": {},
   "source": [
    "# Modifying inference_on_a_image.py to Save Predictions to JSON Files\n",
    "\n",
    "- This code modifies the inference_on_a_image.py script to save predictions to JSON files without manually editing the file."
   ]
  },
  {
   "cell_type": "code",
   "execution_count": null,
   "id": "ea922077-2d2f-4a23-85b4-778ad4092487",
   "metadata": {},
   "outputs": [],
   "source": [
    "# Define the script path\n",
    "script_path = '~/GroundingDINO-Med/OpenGroundingDino/tools/inference_on_a_image.py'"
   ]
  },
  {
   "cell_type": "code",
   "execution_count": null,
   "id": "b9728c08-9f95-4895-83eb-f21e9a8b54a9",
   "metadata": {},
   "outputs": [],
   "source": [
    "# Read the original script content\n",
    "with open(script_path, 'r') as file:\n",
    "    script_content = file.read()"
   ]
  },
  {
   "cell_type": "code",
   "execution_count": null,
   "id": "167734d9-245f-43cb-89a2-0bfdf0f442e3",
   "metadata": {},
   "outputs": [],
   "source": [
    "# Modify the script content\n",
    "import re\n",
    "\n",
    "# Define the code to add (the code that saves predictions)\n",
    "new_code = '''\n",
    "    # **Added code to save predictions to JSON file**\n",
    "    import json\n",
    "\n",
    "    prediction_output = {\n",
    "        \"image_path\": image_path,\n",
    "        \"predictions\": []\n",
    "    }\n",
    "\n",
    "    for box, label in zip(boxes_filt.tolist(), pred_phrases):\n",
    "        prediction_output[\"predictions\"].append({\n",
    "            \"box\": box,  # [x_center, y_center, width, height] in normalized coordinates (0..1)\n",
    "            \"label\": label\n",
    "        })\n",
    "\n",
    "    # Generate a unique name for the JSON file based on the image file name\n",
    "    image_basename = os.path.basename(image_path)\n",
    "    image_name, _ = os.path.splitext(image_basename)\n",
    "    prediction_output_path = os.path.join(output_dir, f\"{image_name}_predictions.json\")\n",
    "    with open(prediction_output_path, \"w\") as f:\n",
    "        json.dump(prediction_output, f)\n",
    "\n",
    "    print(f\"Predictions saved to {prediction_output_path}\")\n",
    "'''\n",
    "\n",
    "# Use regex to find the location after the line that saves the annotated image\n",
    "pattern = r'(image_with_box\\.save\\(save_path\\)\\n)'\n",
    "replacement = r'\\1' + new_code + '\\n'\n",
    "\n",
    "# Modify the script content\n",
    "modified_script_content = re.sub(pattern, replacement, script_content, flags=re.MULTILINE)"
   ]
  },
  {
   "cell_type": "code",
   "execution_count": null,
   "id": "809ede48-f50a-4a97-b466-450141749d0b",
   "metadata": {},
   "outputs": [],
   "source": [
    "# Write the modified content back to the script file\n",
    "with open(script_path, 'w') as file:\n",
    "    file.write(modified_script_content)\n",
    "\n",
    "print(f\"Modified {script_path} successfully.\")"
   ]
  },
  {
   "cell_type": "markdown",
   "id": "74d4ab1b-a548-4c45-a4ee-b39e0e3db196",
   "metadata": {},
   "source": [
    "# Inference on a single Image"
   ]
  },
  {
   "cell_type": "code",
   "execution_count": null,
   "id": "9cd1e4f0-366b-4c43-8829-9e3777b768c6",
   "metadata": {},
   "outputs": [],
   "source": [
    "pwd"
   ]
  },
  {
   "cell_type": "markdown",
   "id": "e1c99098-771f-4cd3-9ecd-200e44c5f6fc",
   "metadata": {},
   "source": [
    "##### Make Changes (-p, -i, -t)"
   ]
  },
  {
   "cell_type": "code",
   "execution_count": null,
   "id": "7acf6255-6344-4f21-afe6-7a9c76942b63",
   "metadata": {
    "scrolled": true
   },
   "outputs": [],
   "source": [
    "!python \"~/GroundingDINO-Med/OpenGroundingDino/tools/inference_on_a_image.py\" \\\n",
    "  -c \"~/GroundingDINO-Med/OpenGroundingDino/tools/GroundingDINO_SwinT_OGC.py\" \\\n",
    "  -p \"~/GroundingDINO-Med/output_tiny/checkpoint0014.pth\" \\\n",
    "  -i \"~/GroundingDINO-Med/xray_data/xray_data/valid/c4d68aad9fdec87b76853d26744026bb.jpg\" \\\n",
    "  -t \"nodule mass . pleural effusion . pleural thickening . pneumothorax . pulmonary fibrosis . other lesion \" \\\n",
    "  -o pred_images"
   ]
  },
  {
   "cell_type": "code",
   "execution_count": null,
   "id": "6cabb6f6-ae91-4b00-a528-dc92722a022d",
   "metadata": {},
   "outputs": [],
   "source": [
    "from PIL import Image\n",
    "img=Image.open(\"~/GroundingDINO-Med/allval_images_in_folder/pred_images/pred.jpg\")\n",
    "img"
   ]
  },
  {
   "cell_type": "markdown",
   "id": "d8f6f115-e539-4f0a-8149-6069f69bd75a",
   "metadata": {},
   "source": [
    "# Inferencing on Val images folder"
   ]
  },
  {
   "cell_type": "code",
   "execution_count": null,
   "id": "8541e635-cfb4-43e8-9ee7-0b4f623554e2",
   "metadata": {},
   "outputs": [],
   "source": [
    "pwd"
   ]
  },
  {
   "cell_type": "markdown",
   "id": "ae546ee4-7b7b-4c66-96db-7efc0b0393b4",
   "metadata": {},
   "source": [
    "##### Make Changes"
   ]
  },
  {
   "cell_type": "code",
   "execution_count": null,
   "id": "33c61bfe-b7a4-433a-bbd8-c69878f978cc",
   "metadata": {
    "scrolled": true
   },
   "outputs": [],
   "source": [
    "import os\n",
    "import subprocess\n",
    "\n",
    "# Directory containing the images\n",
    "image_dir = \"~/GroundingDINO-Med/xray_data/xray_data/valid\"\n",
    "\n",
    "# Get a list of all image files in the directory\n",
    "image_files = [f for f in os.listdir(image_dir) if f.endswith('.png') or f.endswith('.jpg')]\n",
    "\n",
    "# Define the other arguments for the inference script\n",
    "config_path = \"~/GroundingDINO-Med/OpenGroundingDino/tools/GroundingDINO_SwinT_OGC.py\"\n",
    "checkpoint_path = \"~/GroundingDINO-Med/output_tiny/checkpoint0014.pth\"  # Change\n",
    "text_prompts = \"aortic enlargement . atelectasis . calcification . cardiomegaly . consolidation . ild . infiltration . lung opacity . nodule mass . pleural effusion . pleural thickening . pneumothorax . pulmonary fibrosis . other lesion \"\n",
    "output_dir = \"pred_images\"\n",
    "\n",
    "# Loop over all image files and run the inference script on each one\n",
    "for image_file in image_files:\n",
    "    image_path = os.path.join(image_dir, image_file)\n",
    "    command = [\n",
    "        \"python\", \"~/GroundingDINO-Med/OpenGroundingDino/tools/inference_on_a_image.py\",\n",
    "        \"-c\", config_path,\n",
    "        \"-p\", checkpoint_path,\n",
    "        \"-i\", image_path,\n",
    "        \"-t\", text_prompts,\n",
    "        \"-o\", output_dir+image_file\n",
    "    ]\n",
    "    subprocess.run(command)"
   ]
  },
  {
   "cell_type": "markdown",
   "id": "985ddf3f-3ed0-4f9d-a0e1-78526ffb2bfd",
   "metadata": {},
   "source": [
    "# Organizing Images in a single folder and copying folder to Drive"
   ]
  },
  {
   "cell_type": "code",
   "execution_count": null,
   "id": "55d5fcd8-c71f-4210-a141-13783302d566",
   "metadata": {},
   "outputs": [],
   "source": [
    "%mkdir ~/GroundingDINO-Med/final_val_images"
   ]
  },
  {
   "cell_type": "code",
   "execution_count": null,
   "id": "79a7a3e0-5f02-4163-9cd0-6663554ede4f",
   "metadata": {
    "scrolled": true
   },
   "outputs": [],
   "source": [
    "import os\n",
    "import shutil\n",
    "\n",
    "def is_image(file):\n",
    "    image_extensions = ['.png', '.jpg', '.jpeg', '.gif', '.bmp', '.tiff']\n",
    "    return any(file.lower().endswith(ext) for ext in image_extensions)\n",
    "\n",
    "def copy_images(src_dir, dest_dir):\n",
    "    if not os.path.exists(dest_dir):\n",
    "        os.makedirs(dest_dir)\n",
    "\n",
    "    for root, _, files in os.walk(src_dir):\n",
    "        for file in files:\n",
    "            if is_image(file):\n",
    "                src_file_path = os.path.join(root, file)\n",
    "                dest_file_path = os.path.join(dest_dir, file)\n",
    "\n",
    "                # To handle duplicate filenames\n",
    "                if os.path.exists(dest_file_path):\n",
    "                    base, ext = os.path.splitext(file)\n",
    "                    count = 1\n",
    "                    while os.path.exists(dest_file_path):\n",
    "                        dest_file_path = os.path.join(dest_dir, f\"{base}_{count}{ext}\")\n",
    "                        count += 1\n",
    "\n",
    "                shutil.copy2(src_file_path, dest_file_path)\n",
    "                print(f\"Copied {src_file_path} to {dest_file_path}\")\n",
    "\n",
    "# Example usage\n",
    "src_directory = '~/GroundingDINO-Med/allval_images_in_folder'\n",
    "dest_directory = '~/GroundingDINO-Med/final_val_images'\n",
    "copy_images(src_directory, dest_directory)"
   ]
  },
  {
   "cell_type": "markdown",
   "id": "0b7a92a5-c7f5-4124-86d8-26ae7fda1ff0",
   "metadata": {},
   "source": [
    "# Visualizing the Annotated Images"
   ]
  },
  {
   "cell_type": "code",
   "execution_count": null,
   "id": "d475b8cc-2808-45c6-8951-9427a601fff3",
   "metadata": {},
   "outputs": [],
   "source": [
    "import os\n",
    "import random\n",
    "import matplotlib.pyplot as plt\n",
    "from PIL import Image\n",
    "\n",
    "# Path to the folder containing the images\n",
    "folder_path = '~/GroundingDINO-Med/final_val_images'\n",
    "\n",
    "# Get a list of all files in the folder\n",
    "all_files = os.listdir(folder_path)\n",
    "\n",
    "# Filter the list to include only files with image extensions and start with 'pred'\n",
    "image_files = [file for file in all_files if file.lower().endswith(('png', 'jpg', 'jpeg', 'gif', 'bmp')) and file.lower().startswith('pred')]\n",
    "\n",
    "# Randomly select 16 images from the filtered list\n",
    "selected_images = random.sample(image_files, 16)\n",
    "\n",
    "# Set up the plot grid\n",
    "fig, axes = plt.subplots(4, 4, figsize=(10, 10))\n",
    "\n",
    "# Plot each selected image in the grid\n",
    "for ax, image_file in zip(axes.flatten(), selected_images):\n",
    "    # Open the image file\n",
    "    img = Image.open(os.path.join(folder_path, image_file))\n",
    "\n",
    "    # Display the image on the grid\n",
    "    ax.imshow(img)\n",
    "    ax.axis('off')  # Hide the axes\n",
    "\n",
    "# Adjust the layout to be tight\n",
    "plt.tight_layout()\n",
    "\n",
    "# Show the plot\n",
    "plt.show()"
   ]
  }
 ],
 "metadata": {
  "kernelspec": {
   "display_name": "Python 3",
   "language": "python",
   "name": "python3"
  },
  "language_info": {
   "codemirror_mode": {
    "name": "ipython",
    "version": 3
   },
   "file_extension": ".py",
   "mimetype": "text/x-python",
   "name": "python",
   "nbconvert_exporter": "python",
   "pygments_lexer": "ipython3",
   "version": "3.10.12"
  }
 },
 "nbformat": 4,
 "nbformat_minor": 5
}
