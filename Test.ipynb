{
 "cells": [
  {
   "cell_type": "code",
   "execution_count": null,
   "id": "27b53206-1f8f-4524-ad7c-58fa6dbb182d",
   "metadata": {},
   "outputs": [],
   "source": [
    "!pip install -r requirements.txt"
   ]
  },
  {
   "cell_type": "code",
   "execution_count": null,
   "id": "737082ee-057c-4ba0-b7de-3d99392b1f83",
   "metadata": {},
   "outputs": [],
   "source": [
    "from inference import GroundingDINOInference\n",
    "\n",
    "# Initialize the GroundingDINOInference class\n",
    "model_config_path = \"OpenGroundingDino/tools/GroundingDINO_SwinT_OGC.py\"\n",
    "model_checkpoint_path = \"output_tiny/checkpoint0014.pth\"\n",
    "dino = GroundingDINOInference(model_config_path, model_checkpoint_path)\n",
    "\n",
    "# Specify the input image and text prompt\n",
    "image_path = \"image.jpg\"\n",
    "text_prompt = \"a nodule.\"\n",
    "\n",
    "# Run inference with adjustable thresholds\n",
    "box_threshold = 0.2\n",
    "text_threshold = 0.2\n",
    "\n",
    "\"\"\"\n",
    "The default IoU threshold in `inference.py` is set to 0.5. \n",
    "If you wish to modify this threshold, uncomment the `iou_threshold` line below and \n",
    "ensure it is passed as an argument to the `.predict()` method.\n",
    "\"\"\"\n",
    "#iou_threshold = 0.5\n",
    "\n",
    "image, boxes, phrases = dino.predict(image_path, text_prompt, box_threshold, text_threshold)\n",
    "\n",
    "# Visualize and display the predictions\n",
    "output_image_path = \"output_image.jpg\"\n",
    "output_image = dino.visualize_predictions(image, boxes, phrases, save_path = output_image_path)\n",
    "output_image.show()"
   ]
  }
 ],
 "metadata": {
  "kernelspec": {
   "display_name": "Python (pytorch_env)",
   "language": "python",
   "name": "pytorch_env"
  },
  "language_info": {
   "codemirror_mode": {
    "name": "ipython",
    "version": 3
   },
   "file_extension": ".py",
   "mimetype": "text/x-python",
   "name": "python",
   "nbconvert_exporter": "python",
   "pygments_lexer": "ipython3",
   "version": "3.10.12"
  }
 },
 "nbformat": 4,
 "nbformat_minor": 5
}
